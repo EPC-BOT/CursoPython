{
 "cells": [
  {
   "cell_type": "markdown",
   "metadata": {},
   "source": [
    "## Revisão aula 01-07-24\n",
    "\n",
    "- Declaração de variavél\n",
    "   - como declaro uma variavél?\n",
    "   - como converter o tipo de uma variavél\n",
    "   - como restringir uma variavél \n",
    "   - concatenação\n",
    "\n",
    "- Qual a excessão usando a concatenação  + (não concatena numeros inteiros)\n",
    "\n",
    "- Algoritmo \n",
    "  - Sequencia lógica de instruções para resolver um problema específico \n",
    "\n",
    "  # Declaração de variável \n",
    "  nome = 'karython'\n",
    "\n",
    "  # converter o tipo\n",
    "  valor = 15\n",
    "  valor = str(valor)\n",
    "\n",
    "  # Restringir os dados\n",
    "  idade = int(input(\"Digite sua idade\"))\n",
    "  "
   ]
  }
 ],
 "metadata": {
  "language_info": {
   "name": "python"
  }
 },
 "nbformat": 4,
 "nbformat_minor": 2
}
