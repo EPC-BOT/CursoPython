{
 "cells": [
  {
   "cell_type": "markdown",
   "metadata": {},
   "source": [
    "## Revisão aula 01-07-24\n",
    "\n",
    "- Declaração de variável\n",
    "   - como declaro uma variável?\n",
    "   - como converter o tipo de uma variável\n",
    "   - como restringir uma variável \n",
    "   - concatenação\n",
    "\n",
    "- Qual a excessão usando a concatenação  + (não concatena numeros inteiros)\n",
    "\n",
    "- Algoritmo \n",
    "  - Sequencia lógica de instruções para resolver um problema específico \n",
    "\n",
    "  # Declaração de variável \n",
    "  nome = 'karython'\n",
    "\n",
    "  # converter o tipo\n",
    "  valor = 15\n",
    "  valor = str(valor)\n",
    "\n",
    "  # Restringir os dados\n",
    "  idade = int(input(\"Digite sua idade\"))\n",
    "  \n",
    "  - Comandos GIT\n",
    "  # git init\n",
    "   - iniciar um novo repositorio \n",
    "  # git status\n",
    "   - verificar o estado de respositorio verificar o estado pra ser feito o commit\n",
    "  # git add\n",
    "   - adicionar as atualizações para ser feito o commit (crie o arquivo .ignore)\n",
    "  # git commit\n",
    "   - comita as informações (salva uma versão do repositorio)\n",
    "\n",
    "\n",
    "\n",
    "\n",
    "   Operadores\n",
    "\n",
    "    - soma\n",
    "    - sutração\n",
    "    - divisão\n",
    "    - multiplicação\n",
    "\n",
    "    soma = 10 + 10\n",
    "\n",
    "    print(Usando como concatenação'10'+'10')\n",
    "    print(Usando como soma: ',10 + 10)\n",
    "\n",
    "    num1 = 50\n",
    "    num2 = 20\n",
    "\n",
    "    soma = num1 + num2\n",
    "    print('O resultado da soma é: ',soma)\n",
    "\n",
    "# Subtração\n",
    "subtracao = num1 - num2\n",
    "print (f'Resultado da subtração: {subtracao}')\n",
    "\n",
    "Usando como concatenação: 1010\n",
    "Usando como soma: 20\n",
    "O resultado da soma é: 70\n",
    "Resultado da subtração: 30\n",
    "\n",
    "# multiplicação\n",
    "print (f'Resultado da subtração: {multiplicacao}')\n",
    "\n",
    "multiplicacao = num1 - num2\n",
    "\n",
    "Usando como concatenação: 1010\n",
    "Usando como soma: 20\n",
    "O resultado da soma é: 70\n",
    "Resultado da subtração: 30\n",
    "Resultado da multiplicação: \n",
    "\n",
    "# Divisão\n",
    "divisao = num1 / num2\n",
    "print(f' resultado da divisão : {divisao}')\n"
   ]
  },
  {
   "cell_type": "code",
   "execution_count": 2,
   "metadata": {},
   "outputs": [
    {
     "name": "stdout",
     "output_type": "stream",
     "text": [
      "teste\n"
     ]
    }
   ],
   "source": [
    "print(\"teste\")"
   ]
  },
  {
   "cell_type": "markdown",
   "metadata": {},
   "source": [
    "## Atividade \n",
    "\n",
    "- Declare 2 variáveis, cada uma com um valor, e some os resultados concatenados a um texto.\n",
    "- Crie um sistema onde o usuário irá inserir dois valores, guarde cada valor em variáveis, em seguida vocês irão realizar as 4 operações básicas de matematica (+;-;*;/) e mostrar esses resultados na tela, também concatenados a um texto indicativo de cada operação.\n",
    "\n",
    "- Crie um sistema que receba o nome do usuário, a idade so podendo aceitar numero inteiro, em seguida mostre o nome e idade do usuário e peça que ele digite 2 numeros para que sejam somados. Mostrar por ultimo a soma realizada para o usuário.\n",
    "\n"
   ]
  },
  {
   "cell_type": "code",
   "execution_count": 6,
   "metadata": {},
   "outputs": [
    {
     "name": "stdout",
     "output_type": "stream",
     "text": [
      "casa brancacasa preta\n"
     ]
    }
   ],
   "source": [
    " caixa1 = \"casa branca\" \n",
    " caixa2 = \"casa preta\"\n",
    "\n",
    "print (caixa1 + caixa2)\n",
    "\n"
   ]
  },
  {
   "cell_type": "markdown",
   "metadata": {},
   "source": []
  },
  {
   "cell_type": "code",
   "execution_count": 3,
   "metadata": {},
   "outputs": [
    {
     "name": "stdout",
     "output_type": "stream",
     "text": [
      "\n",
      "soma: 25 \n",
      "subtracao: -5 \n",
      "multiplicacao: 150 \n",
      "Divisao: 0.6666666666666666\n"
     ]
    }
   ],
   "source": [
    "num1 = int(input(\"Digite o primeiro numero: \"))\n",
    "num2 = int(input(\"Digite o segundo numero: \"))\n",
    "\n",
    "soma = num1 + num2\n",
    "subtracao = num1 - num2 \n",
    "multiplicacao = num1 * num2\n",
    "divisao = num1 / num2\n",
    "\n",
    "print(f'\\nsoma: {soma} \\nsubtracao: {subtracao} \\nmultiplicacao: {multiplicacao} \\nDivisao: {divisao}')"
   ]
  },
  {
   "cell_type": "code",
   "execution_count": 4,
   "metadata": {},
   "outputs": [
    {
     "name": "stdout",
     "output_type": "stream",
     "text": [
      "Nome: nome \n",
      "idade: 25\n"
     ]
    }
   ],
   "source": [
    "nome = input (\"Digite o nome: \")\n",
    "idade = int(input(\"Digite a idade: \"))\n",
    "print(f\"Nome: {nome} \\nidade: {idade}\")\n",
    "\n"
   ]
  },
  {
   "cell_type": "code",
   "execution_count": 5,
   "metadata": {},
   "outputs": [
    {
     "name": "stdout",
     "output_type": "stream",
     "text": [
      "resultado da soma: 3\n"
     ]
    }
   ],
   "source": [
    "numero1 = int(input(\"Digite o primeiro numero\")) \n",
    "numero2 = int(input(\"Digite o segundo numero\"))\n",
    "print (\"resultado da soma:\", numero1 + numero2)"
   ]
  }
 ],
 "metadata": {
  "kernelspec": {
   "display_name": "Python 3",
   "language": "python",
   "name": "python3"
  },
  "language_info": {
   "codemirror_mode": {
    "name": "ipython",
    "version": 3
   },
   "file_extension": ".py",
   "mimetype": "text/x-python",
   "name": "python",
   "nbconvert_exporter": "python",
   "pygments_lexer": "ipython3",
   "version": "3.12.4"
  }
 },
 "nbformat": 4,
 "nbformat_minor": 2
}
