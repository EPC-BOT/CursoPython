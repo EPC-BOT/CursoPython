{
 "cells": [
  {
   "cell_type": "markdown",
   "metadata": {},
   "source": [
    "## Revisão aula 01-07-24\n",
    "\n",
    "- Declaração de variável\n",
    "   - como declaro uma variável?\n",
    "   - como converter o tipo de uma variável\n",
    "   - como restringir uma variável \n",
    "   - concatenação\n",
    "\n",
    "- Qual a excessão usando a concatenação  + (não concatena numeros inteiros)\n",
    "\n",
    "- Algoritmo \n",
    "  - Sequencia lógica de instruções para resolver um problema específico \n",
    "\n",
    "  # Declaração de variável \n",
    "  nome = 'karython'\n",
    "\n",
    "  # converter o tipo\n",
    "  valor = 15\n",
    "  valor = str(valor)\n",
    "\n",
    "  # Restringir os dados\n",
    "  idade = int(input(\"Digite sua idade\"))\n",
    "  \n",
    "  - Comandos GIT\n",
    "  # git init\n",
    "   - iniciar um novo repositorio \n",
    "  # git status\n",
    "   - verificar o estado de respositorio verificar o estado pra ser feito o commit\n",
    "  # git add\n",
    "   - adicionar as atualizações para ser feito o commit (crie o arquivo .ignore)\n",
    "  # git commit\n",
    "   - fazer commit das alterações \n"
   ]
  }
 ],
 "metadata": {
  "language_info": {
   "name": "python"
  }
 },
 "nbformat": 4,
 "nbformat_minor": 2
}
