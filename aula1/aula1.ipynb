{
 "cells": [
  {
   "cell_type": "markdown",
   "metadata": {},
   "source": [
    "# Python Essencial\n",
    "\n",
    "\n",
    "\n",
    "- Algoritomo\n",
    "- Comentários\n",
    "- Variável\n",
    "- Estrutura de Seleção\n",
    "- Git\n",
    "- GitHub\n",
    "- Compartilhar Notebook no GitHub"
   ]
  },
  {
   "cell_type": "markdown",
   "metadata": {},
   "source": [
    "# CAP.1 - Algoritomo para fritar um Ovo\n",
    "\n",
    "##### Introdução\n",
    "\n",
    "##### Passo a Passo para realizar uma determinada tarefa \n",
    "O algoritimo é uma sequência para realizar uma determinada tarefa. Por exemplo, fritar um ovo. Quais são os passos para fritar um ovo:\n",
    "\n",
    "Passo 1: pegar o ovo na geladeira\n",
    "Passo 2: pegar a frigideira \n",
    "Passo 3: colocar a frigideira no fogão\n",
    "Passo 4: ligar o fogo\n",
    "Passo 5: pegar a manteiga\n",
    "Passo 6: colocar a manteiga na frigideira\n",
    "Passo 7: quebrar o ovo na frigideira\n",
    "Passo 8: colocar o sal\n",
    "Passo 9: esperar o ovo fritar\n",
    "Passo 10: comer o ovo\n"
   ]
  }
 ],
 "metadata": {
  "language_info": {
   "name": "python"
  }
 },
 "nbformat": 4,
 "nbformat_minor": 2
}
