{
 "cells": [
  {
   "cell_type": "markdown",
   "metadata": {},
   "source": [
    "## Listas\n",
    "\n",
    "  - Declarando uma lista\n",
    "  - Manipulação de lista\n",
    "      - adicionando um novo elemento na lista\n",
    "      - Adicionando um novo elemento em uma posição na lista\n",
    "      - Removendo um elemento da lista\n",
    "      - mostrando segundo, terceiro e quarto elemento da lista\n",
    "      - mostrando o ultimo elemento da lista\n",
    "      - ordenando lista  "
   ]
  },
  {
   "cell_type": "code",
   "execution_count": 31,
   "metadata": {},
   "outputs": [
    {
     "name": "stdout",
     "output_type": "stream",
     "text": [
      "O primeiro nome é gomes\n",
      "O ultimo elemento é:joao\n",
      "['gomes', 'oliveira', 'jose', 'pedro', 'maria', 'lucas', 'joao']\n",
      "['oliveira', 'jose', 'pedro', 'maria', 'lucas', 'joao']\n"
     ]
    }
   ],
   "source": [
    "\n",
    "nomes = ['gomes', 'oliveira', 'lucas', 'jose', 'pedro', 'maria', 'lucas', 'joao']\n",
    "\n",
    "\n",
    "# Retornando o elemento da lista atravez do indice\n",
    "print(f'O primeiro nome é {nomes[0]}')\n",
    "\n",
    "# Retornando o ultimo elemento da lista\n",
    "print(f'O ultimo elemento é:{nomes[-1]}')\n",
    "\n",
    "# Remova um item da lista com REMOVE\n",
    "nomes.remove('lucas')\n",
    "print(nomes)\n",
    "\n",
    "#Remova item da lista com pop\n",
    "nomes.pop(0)\n",
    "print(nomes)\n",
    "\n",
    "\n",
    "\n",
    "\n",
    "\n"
   ]
  },
  {
   "cell_type": "code",
   "execution_count": 6,
   "metadata": {},
   "outputs": [
    {
     "name": "stdout",
     "output_type": "stream",
     "text": [
      "['pedro,maria,joao']\n"
     ]
    }
   ],
   "source": [
    "nomes = ['gomes', 'oliveira', 'lucas', 'jose', 'pedro', 'maria', 'joao']\n",
    "\n",
    "\n",
    "# Removendo o item usando Del\n",
    "del nomes[:3]\n",
    "print(nomes)"
   ]
  },
  {
   "cell_type": "code",
   "execution_count": 9,
   "metadata": {},
   "outputs": [
    {
     "name": "stdout",
     "output_type": "stream",
     "text": [
      "['gomes', 'oliveira,lucas', 'jose', 'pedro,maria,joao', 'Josue']\n"
     ]
    }
   ],
   "source": [
    "nomes = ['gomes', 'oliveira', 'lucas', 'jose', 'pedro', 'maria', 'joao']\n",
    "\n",
    "# Adicionar um novo item a lista\n",
    "nomes.append('Josue')\n",
    "print(nomes)"
   ]
  },
  {
   "cell_type": "code",
   "execution_count": 11,
   "metadata": {},
   "outputs": [
    {
     "name": "stdout",
     "output_type": "stream",
     "text": [
      "['gomes', 'oliveira,lucas', 'Josue', 'jose', 'pedro,maria,joao']\n"
     ]
    }
   ],
   "source": [
    "nomes = ['gomes', 'oliveira,' 'lucas', 'jose', 'pedro', 'maria', 'joao']\n",
    "\n",
    "# Adicionar elemento em uma posição específica\n",
    "nomes.insert(2, 'Josue')\n",
    "print(nomes)"
   ]
  },
  {
   "cell_type": "code",
   "execution_count": 15,
   "metadata": {},
   "outputs": [
    {
     "name": "stdout",
     "output_type": "stream",
     "text": [
      "1° nome da lista: gomes\n",
      "2° nome da lista: oliveira,lucas\n",
      "3° nome da lista: jose\n",
      "4° nome da lista: pedro,maria,lucas,joao\n",
      "Digite um novo nome a ser adicionado a lista: \n",
      "\n",
      "============================== Lista atualizada ==============================\n",
      "1° nome da lista: None\n",
      "2° nome da lista: gomes\n",
      "3° nome da lista: oliveira,lucas\n",
      "4° nome da lista: jose\n",
      "5° nome da lista: pedro,maria,lucas,joao\n"
     ]
    }
   ],
   "source": [
    "nomes = ['gomes', 'oliveira', 'lucas', 'jose', 'pedro', 'maria', 'lucas', 'joao']\n",
    "\n",
    "for i in range(len(nomes)):\n",
    "            print(f'{i + 1}° nome da lista: {nomes[i]}')\n",
    "\n",
    "\n",
    "# Recebendo novo nome para adicionar na lista\n",
    "novo_nome = print(\"Digite um novo nome a ser adicionado a lista: \")\n",
    "\n",
    "# Recebendo uma posição para adicionar na lista\n",
    "posicao = input('Informe a posição desejada para adicionar o novo nome: ')\n",
    "posicao = int(posicao)\n",
    "\n",
    "# Corrigindo a posição dos indices\n",
    "posicao -= 1\n",
    "\n",
    "if posicao >= 0 and posicao <= len(nomes):\n",
    "        nomes.insert(posicao, novo_nome)\n",
    "        \n",
    "else:\n",
    "        print('Posição invalida')        \n",
    "\n",
    "print()\n",
    "print(30*'=','Lista atualizada', 30*'=')\n",
    "for i in range(len(nomes)):\n",
    "            print(f'{i + 1}° nome da lista: {nomes[i]}')        "
   ]
  },
  {
   "cell_type": "code",
   "execution_count": 14,
   "metadata": {},
   "outputs": [
    {
     "name": "stdout",
     "output_type": "stream",
     "text": [
      "['gomes', 'garoto de programa', 'jose', 'pedro,maria,lucas,joao']\n"
     ]
    }
   ],
   "source": [
    "nomes = ['gomes', 'oliveira', 'lucas', 'jose', 'pedro', 'maria', 'lucas', 'joao']\n",
    "\n",
    "# Substituindo um valor na lista atraves do seu indice\n",
    "nomes[1] = 'garoto de programa'\n",
    "print(nomes)"
   ]
  },
  {
   "cell_type": "code",
   "execution_count": 22,
   "metadata": {},
   "outputs": [
    {
     "name": "stdout",
     "output_type": "stream",
     "text": [
      "Lista desordenada: [10, 9, 8, 7, 6, 5, 4, 3, 2, 1]\n",
      "Lista ordenada: [1, 2, 3, 4, 5, 6, 7, 8, 9, 10]\n"
     ]
    }
   ],
   "source": [
    "\n",
    "Lista1 = [10,9,8,7,6,5,4,3,2,1,]\n",
    "\n",
    "# Lista ordenada Crescente\n",
    "print(f'Lista desordenada: {Lista1}')\n",
    "Lista1.sort()\n",
    "print(f'Lista ordenada: {Lista1}')\n",
    "\n"
   ]
  },
  {
   "cell_type": "code",
   "execution_count": 21,
   "metadata": {},
   "outputs": [
    {
     "name": "stdout",
     "output_type": "stream",
     "text": [
      "Lista desordenanda: [5, 2, 9, 20, 7, 4, 8, 3, 10, 1]\n",
      "Lista ordenada Decrescente: [20, 10, 9, 8, 7, 5, 4, 3, 2, 1]\n"
     ]
    }
   ],
   "source": [
    "lista = [5,2,9,20,7,4,8,3,10,1]\n",
    "\n",
    "# Lista ordenada Decrescente\n",
    "print(f'Lista desordenanda: {lista}')\n",
    "lista.sort(reverse=True)\n",
    "print(f'Lista ordenada Decrescente: {lista}')"
   ]
  }
 ],
 "metadata": {
  "kernelspec": {
   "display_name": "Python 3",
   "language": "python",
   "name": "python3"
  },
  "language_info": {
   "codemirror_mode": {
    "name": "ipython",
    "version": 3
   },
   "file_extension": ".py",
   "mimetype": "text/x-python",
   "name": "python",
   "nbconvert_exporter": "python",
   "pygments_lexer": "ipython3",
   "version": "3.12.4"
  }
 },
 "nbformat": 4,
 "nbformat_minor": 2
}
