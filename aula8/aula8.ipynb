{
 "cells": [
  {
   "cell_type": "code",
   "execution_count": null,
   "metadata": {},
   "outputs": [],
   "source": []
  },
  {
   "cell_type": "code",
   "execution_count": 11,
   "metadata": {},
   "outputs": [
    {
     "name": "stdout",
     "output_type": "stream",
     "text": [
      "o sorteado é ana\n",
      "o sorteado é andre\n",
      "o sorteado é andre\n",
      "o sorteado é andre\n",
      "Programa finalizado\n",
      "Lista os nomes: ['ana', 'andre', 'dino']\n",
      "Lista dos sorteados: ['ana', 'andre', 'andre', 'andre']\n"
     ]
    }
   ],
   "source": [
    "import random\n",
    "import os\n",
    "\n",
    "# nome1 = input('Digite um nome:')\n",
    "# nome2 = input('Digite um nome:')\n",
    "# nome3 = input('Digite um nome:')\n",
    "# nome4 = input('Digite um nome:')\n",
    "# nome5 = input('Digite um nome:')\n",
    "\n",
    "lista_nome = []\n",
    "lista_sorteados = []\n",
    "\n",
    "\n",
    "while True:\n",
    "    nome = input(\"Digite os nome que serão sorteados: \")\n",
    "    if nome != '':\n",
    "        lista_nome.append(nome)\n",
    "    else:\n",
    "        break    \n",
    "\n",
    "    while True:\n",
    "        if lista_nome:\n",
    "            os.system('cls')\n",
    "            escolhido = random.choice(lista_nome)\n",
    "            lista_sorteados.append(escolhido)\n",
    "            print(f'o sorteado é {escolhido}')\n",
    "\n",
    "            opcao = input('deseja sortear outro nome? (s/n)').lower()\n",
    "            os.system('cls')\n",
    "\n",
    "            if opcao != 's':\n",
    "                break\n",
    "        else:\n",
    "            print('Não existe nomes para serem sorteados')      \n",
    "\n",
    "print('Programa finalizado')\n",
    "print(f'Lista os nomes: {lista_nome}')\n",
    "print(f'Lista dos sorteados: {lista_sorteados}')\n",
    "\n",
    "\n"
   ]
  },
  {
   "cell_type": "code",
   "execution_count": null,
   "metadata": {},
   "outputs": [],
   "source": [
    "lista = ['gomes', oliveira',karython, 'lucas, 'beltrano, 'cicrano']\n",
    "         print(f'Primeiro nome da lista: {lista[0]}')\n",
    "         print(f'Primeiro nome da lista: {lista[1]}')\n",
    "         print(f'Primeiro nome da lista: {lista[2]}')\n",
    "\n",
    "         for i in range(5):\n",
    "            print(f'{i+1}° nome: {lista[i]}')  \n",
    "         print()\n",
    "         for i in range(len(lista)):\n",
    "             print(f'{i+1})° nome: {lista[i]}')\n",
    "\n",
    "             \n"
   ]
  },
  {
   "cell_type": "code",
   "execution_count": 1,
   "metadata": {},
   "outputs": [
    {
     "name": "stdout",
     "output_type": "stream",
     "text": [
      "4 x 1 = 4\n",
      "4 x 2 = 8\n",
      "4 x 3 = 12\n",
      "4 x 4 = 16\n",
      "4 x 5 = 20\n",
      "4 x 6 = 24\n",
      "4 x 7 = 28\n",
      "4 x 8 = 32\n",
      "4 x 9 = 36\n",
      "4 x 10 = 40\n"
     ]
    }
   ],
   "source": [
    "x = int(input('Digitar um numero inteiro:'))\n",
    "\n",
    "for num in range(1, 11):\n",
    "    print(f'{x} x {num} = {x * num}')\n"
   ]
  },
  {
   "cell_type": "code",
   "execution_count": null,
   "metadata": {},
   "outputs": [],
   "source": [
    "import random\n",
    "\n",
    "numero_secreto = radom.randint(1,20)\n",
    "\n",
    "# FIXME: Declarando variáveis\n",
    "\n",
    "tentativas = 0\n",
    "max_tentativas = 5\n",
    "acertou = falso\n",
    "\n",
    "print(\"Bem-vindo ao GAME Python Adivinha!!!\")\n",
    "print(f'Você tem {max_tentaivas}tentativas para adivinhar o numero secreto entr 1 e 20')\n",
    "\n",
    "# Loop (Jogo)\n",
    "\n",
    "while tentativas < max_tentativas:\n",
    "    palpite = int(input('Digite um numero inteiro: '))\n",
    "\n",
    "    tentativas += 1\n",
    "    \n",
    "    if palpite == numero_secreto:\n",
    "        acertou = True\n",
    "        break\n",
    "    elif palpite < numero_secreto:\n",
    "        print('Tente um numero maior')\n",
    "\n",
    "    else:\n",
    "        print('Tente um numero menor')    \n",
    "\n",
    "if acertou:\n",
    "    print(f'Parabéns! Você acertou o numero secreto{numero_secreto} em {tentativas}.') \n",
    "           "
   ]
  }
 ],
 "metadata": {
  "kernelspec": {
   "display_name": "Python 3",
   "language": "python",
   "name": "python3"
  },
  "language_info": {
   "codemirror_mode": {
    "name": "ipython",
    "version": 3
   },
   "file_extension": ".py",
   "mimetype": "text/x-python",
   "name": "python",
   "nbconvert_exporter": "python",
   "pygments_lexer": "ipython3",
   "version": "3.12.4"
  }
 },
 "nbformat": 4,
 "nbformat_minor": 2
}
