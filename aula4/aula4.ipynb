{
 "cells": [
  {
   "cell_type": "markdown",
   "metadata": {},
   "source": [
    "# Revisão\n",
    "\n",
    "- Como somar um número?\n",
    " - somente somo números inteiros e não string\n",
    "\n",
    "- Qual passo ideal para fazer as operações matemáticas?\n",
    " - converter o input para um número inteiro\n",
    " \n",
    "- Qual tipo de dado retorna de uma divisão?\n",
    " - tipo float"
   ]
  },
  {
   "cell_type": "code",
   "execution_count": 2,
   "metadata": {},
   "outputs": [
    {
     "name": "stdout",
     "output_type": "stream",
     "text": [
      "Divisao inteira: 0\n",
      "Divisao normal: 0.5\n",
      "Resto: 1\n",
      "Exponenciação: 1\n"
     ]
    }
   ],
   "source": [
    "# Divisão, Resto, Exponenciação\n",
    "\n",
    "n1 = input(\"Digite o primeiro numero:\")\n",
    "n2 = input(\"Digitre o segundo numero:\")\n",
    "\n",
    "\n",
    "# Convertendo as entradas para inteiro\n",
    "n1 = int(n1)\n",
    "n2 = int(n2)\n",
    "\n",
    "divisao_inteira = n1 // n2\n",
    "divisao = n1 / n2\n",
    "resto = n1 % n2\n",
    "expo = n1 ** n2\n",
    "\n",
    "\n",
    "print (f'Divisao inteira: {divisao_inteira}')\n",
    "print (f'Divisao normal: {divisao}')\n",
    "print (f'Resto: {resto}')\n",
    "print (f'Exponenciação: {expo}')\n"
   ]
  },
  {
   "cell_type": "code",
   "execution_count": 7,
   "metadata": {},
   "outputs": [
    {
     "name": "stdout",
     "output_type": "stream",
     "text": [
      "Resultado de atribuicao de subtracao: -5\n",
      "Resultado de atribuicao de soma: 5\n",
      "Resultado de atribuicao de multiplicacao: 50\n",
      "Resultado de atribuicao de divisao: 5.0\n",
      "Resultado de atribuicao de divisao inteira: 0.0\n"
     ]
    }
   ],
   "source": [
    "# Atribuição Subtração\n",
    "valor -= 10\n",
    "print(f'Resultado de atribuicao de subtracao: {valor}') \n",
    "\n",
    "# Atribuição Soma\n",
    "valor += 10\n",
    "print(f'Resultado de atribuicao de soma: {valor}')\n",
    "\n",
    "# Atribuição Multiplicação\n",
    "valor *= 10\n",
    "print(f'Resultado de atribuicao de multiplicacao: {valor}')\n",
    "\n",
    "# Atribuição Divisão\n",
    "valor /= 10\n",
    "print(f'Resultado de atribuicao de divisao: {valor}')\n",
    "\n",
    "# Atribuição Divisão Inteira\n",
    "valor //= 10\n",
    "print(f'Resultado de atribuicao de divisao inteira: {valor}')"
   ]
  },
  {
   "cell_type": "code",
   "execution_count": 8,
   "metadata": {},
   "outputs": [
    {
     "name": "stdout",
     "output_type": "stream",
     "text": [
      "Resultado da atribuição de modulo: 5\n"
     ]
    }
   ],
   "source": [
    " # Atribuição de modulo\n",
    "valor = 5\n",
    "valor %= 10\n",
    "print(f'Resultado da atribuição de modulo: {valor}')"
   ]
  },
  {
   "cell_type": "markdown",
   "metadata": {},
   "source": [
    "## Atividade\n",
    "\n",
    "- Crie um programa para o Boletim de notas do aluno. Guarde o nome do aluno, as notas e calcule e media final do aluno.\n",
    "- Disciplinas:\n",
    " - Matemática\n",
    " - Português\n",
    " - Geografia\n",
    " - Historia\n",
    " - Física\n",
    "\n",
    "- Ao obter as notas e a media das notas, imprima o boletim do aluno informando as notas das materis e com quanto ele ficou de media"
   ]
  },
  {
   "cell_type": "code",
   "execution_count": 10,
   "metadata": {},
   "outputs": [
    {
     "name": "stdout",
     "output_type": "stream",
     "text": [
      "------------------------------ BOLETIM DO ALUNO ------------------------------\n",
      "nome: rafa \n",
      "media Final: 7.6\n",
      "\n",
      "Matematica: 9.0 \n",
      "Portugues: 8.0 \n",
      "Geografia: 7.0 \n",
      "Historia: 5.0 \n",
      "Fisica: 9.0\n"
     ]
    }
   ],
   "source": [
    "\n",
    "\n",
    "nome = input(\"Digite o nome do aluno: \")\n",
    "\n",
    "matematica = input(f'Digite a nota de matematica:')\n",
    "matematica = float(matematica)\n",
    "\n",
    "portugues = input(f'Digite a nota de portugues:')\n",
    "portugues = float(portugues)\n",
    "\n",
    "geografia = input(f'Digite a nota de geografia:')\n",
    "geografia = float(geografia)\n",
    "\n",
    "historia = input(f'Digite a nota de historia:')\n",
    "historia = float(historia)\n",
    "\n",
    "fisica = input(f'Digite a nota de fisica:')\n",
    "fisica = float(fisica)\n",
    "\n",
    "\n",
    "# Calcule a media\n",
    "media = (matematica+portugues+geografia+historia+fisica)/5\n",
    "\n",
    "\n",
    "\n",
    "print(30*\"-\", \"BOLETIM DO ALUNO\", 30*\"-\")\n",
    "print(f'nome: {nome} \\nmedia Final: {media}')\n",
    "# Mostrar medias materiasgit\n",
    "print(f'\\nMatematica: {matematica} \\nPortugues: {portugues} \\nGeografia: {geografia} \\nHistoria: {historia} \\nFisica: {fisica}')\n"
   ]
  }
 ],
 "metadata": {
  "kernelspec": {
   "display_name": "Python 3",
   "language": "python",
   "name": "python3"
  },
  "language_info": {
   "codemirror_mode": {
    "name": "ipython",
    "version": 3
   },
   "file_extension": ".py",
   "mimetype": "text/x-python",
   "name": "python",
   "nbconvert_exporter": "python",
   "pygments_lexer": "ipython3",
   "version": "3.12.4"
  }
 },
 "nbformat": 4,
 "nbformat_minor": 2
}
