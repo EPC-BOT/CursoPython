{
 "cells": [
  {
   "cell_type": "code",
   "execution_count": 2,
   "metadata": {},
   "outputs": [
    {
     "name": "stdout",
     "output_type": "stream",
     "text": [
      "if falso\n",
      "finalizou o codigo\n"
     ]
    }
   ],
   "source": [
    "## AULA 05\n",
    "\n",
    "\n",
    "- Verificar se o repositorio remoto esta conectado com git remote -v\n",
    "\n",
    "- Fazer o push para empurrar os arquivos para a nuvem github\n",
    "\n",
    "\n",
    "\n",
    "programador = False\n",
    "\n",
    "if programador:\n",
    "     print('if é verdadeiro')\n",
    "\n",
    "else:\n",
    "     print(\"if falso\") \n",
    "\n",
    "print('finalizou o codigo')         "
   ]
  },
  {
   "cell_type": "code",
   "execution_count": 9,
   "metadata": {},
   "outputs": [
    {
     "name": "stdout",
     "output_type": "stream",
     "text": [
      "Pode brincar na montanha russa!\n"
     ]
    }
   ],
   "source": [
    "idade = 15\n",
    "altura = 1.75\n",
    "# and\n",
    "# or\n",
    "\n",
    "\n",
    "if idade >= 18 or altura > 1.60: \n",
    "    print('Pode brincar na montanha russa!')\n",
    "\n",
    "else: print('Não pode brincar')    "
   ]
  },
  {
   "cell_type": "markdown",
   "metadata": {},
   "source": [
    "## Desafio: Receber um número verificar se é par ou impar"
   ]
  },
  {
   "cell_type": "code",
   "execution_count": 14,
   "metadata": {},
   "outputs": [
    {
     "name": "stdout",
     "output_type": "stream",
     "text": [
      "Num1: 10 é par\n"
     ]
    }
   ],
   "source": [
    "num1 = input('Digite um numero')\n",
    "num1 = int(num1)\n",
    "\n",
    "if num1 %2 == 0:\n",
    "   print(f'Num1: {num1} é par')\n",
    "\n",
    "else:\n",
    "   print(f'Num1: {num1} é impar')   "
   ]
  },
  {
   "cell_type": "markdown",
   "metadata": {},
   "source": [
    "## Desafio 2\n",
    " - Um elevador de carga possui capacidade para 200kg.\n",
    "  - Crie um programa que receba do usuario o peso da carga, ou seu peso e verifica se a carga esta autorizada a usar o elevador ou não."
   ]
  },
  {
   "cell_type": "code",
   "execution_count": 23,
   "metadata": {},
   "outputs": [
    {
     "name": "stdout",
     "output_type": "stream",
     "text": [
      "Carga autorizada! Peso: 100\n"
     ]
    }
   ],
   "source": [
    "carga = input('Digite um numero')\n",
    "carga = int(carga)\n",
    "\n",
    "usuario = input('Digite um numero')\n",
    "usuario = int(carga)\n",
    "\n",
    "peso = carga + usuario\n",
    "\n",
    "if peso <= 200:\n",
    "  print(f'Carga autorizada! Peso: {peso}')\n",
    "\n",
    "else: \n",
    "  print(f'Carga não autorizada, Elevador excedeu o peso maximo de 200 kilos!\\nPeso Atual:{peso} ')\n",
    " \n",
    "\n",
    " \n",
    "\n",
    "\n"
   ]
  },
  {
   "cell_type": "markdown",
   "metadata": {},
   "source": [
    "# Revisão Desafio 2:"
   ]
  },
  {
   "cell_type": "code",
   "execution_count": 26,
   "metadata": {},
   "outputs": [
    {
     "name": "stdout",
     "output_type": "stream",
     "text": [
      "Não pode usar o elevafor\n"
     ]
    }
   ],
   "source": [
    "usuario = input(\"Digite seu peso:\")\n",
    "carga = input(\"Digite o peso da carga:\")\n",
    "\n",
    "usuario = int(usuario)\n",
    "carga = int(carga)\n",
    "\n",
    "peso_total = usuario + carga\n",
    "capacidade = 200\n",
    "\n",
    "if peso_total <= capacidade:\n",
    "  print(\"Não pode usar o elevafor\")\n",
    "\n",
    "else: \n",
    "  print(\"Não pode usar o elevador\")\n"
   ]
  },
  {
   "cell_type": "code",
   "execution_count": 27,
   "metadata": {},
   "outputs": [
    {
     "name": "stdout",
     "output_type": "stream",
     "text": [
      "Beltrano,você esta aprovado. Nota: 9\n"
     ]
    }
   ],
   "source": [
    "nome = \"Beltrano\"\n",
    "nota = 9\n",
    "\n",
    "if nota >= 7:\n",
    "    print(f'{nome},você esta aprovado. Nota: {nota}')\n",
    "\n",
    "elif nota >= 5:\n",
    "    print(f'{nome}, você de recuperação. Nota: {nota}') \n",
    "\n",
    "else: \n",
    "    print(f'{nome}, você esta reprovado. Nota: {nota}')        \n",
    " \n"
   ]
  },
  {
   "cell_type": "markdown",
   "metadata": {},
   "source": [
    "## Desafio \n",
    "- Crie um sistema para coletar os dados do aluno, (nome,idade e cpf), em seguida solicite as notas dos 4 bimestres da disciplina de Python que o aluno teve para verificar a Media.\n",
    "   - Media para aprovação >= 7\n",
    "   - Media para recuperação >= 5 \n",
    "   - Media para reprovação =< 5\n",
    "\n",
    "\n",
    "- Para retirar o boletim de notas, o aluno precisa ser maior de idade(18) e caso não seja, somente os pais podem retirar o boletim.\n",
    "   - Imprima as informações do aluno\n",
    "   - Imprima as notas do aluno em cada bimestre\n",
    "   - Imprima a situação do aluno (aprovado, reprovado, recuperação)\n",
    "   - Imprima se o boletim sera retirado pelos pais ou pelo proprio aluno"
   ]
  },
  {
   "cell_type": "code",
   "execution_count": 5,
   "metadata": {},
   "outputs": [
    {
     "name": "stdout",
     "output_type": "stream",
     "text": [
      "-------------------------------------------------- BOLETIM DO ALUNO --------------------------------------------------\n",
      "nome: paulo, idade: 17, cpf: 188888855555\n"
     ]
    },
    {
     "ename": "TypeError",
     "evalue": "'>=' not supported between instances of 'str' and 'int'",
     "output_type": "error",
     "traceback": [
      "\u001b[1;31m---------------------------------------------------------------------------\u001b[0m",
      "\u001b[1;31mTypeError\u001b[0m                                 Traceback (most recent call last)",
      "Cell \u001b[1;32mIn[5], line 28\u001b[0m\n\u001b[0;32m     24\u001b[0m Quarto_Bimestre \u001b[38;5;241m=\u001b[39m \u001b[38;5;28mfloat\u001b[39m(Quarto_Bimestre)\n\u001b[0;32m     26\u001b[0m media_bimestral \u001b[38;5;241m=\u001b[39m (Primeiro_Bimestre\u001b[38;5;241m+\u001b[39mSegundo_Bimestre\u001b[38;5;241m+\u001b[39mTerceiro_Bimestre\u001b[38;5;241m+\u001b[39mQuarto_Bimestre)\u001b[38;5;241m/\u001b[39m\u001b[38;5;241m4\u001b[39m\n\u001b[1;32m---> 28\u001b[0m \u001b[38;5;28;01mif\u001b[39;00m \u001b[43midade\u001b[49m\u001b[43m \u001b[49m\u001b[38;5;241;43m>\u001b[39;49m\u001b[38;5;241;43m=\u001b[39;49m\u001b[43m \u001b[49m\u001b[38;5;241;43m18\u001b[39;49m:\n\u001b[0;32m     29\u001b[0m     \u001b[38;5;28mprint\u001b[39m(\u001b[38;5;124mf\u001b[39m\u001b[38;5;124m'\u001b[39m\u001b[38;5;124mo boletim pode ser retirado pelo aluno\u001b[39m\u001b[38;5;124m'\u001b[39m)\n\u001b[0;32m     31\u001b[0m     \u001b[38;5;28mprint\u001b[39m(\u001b[38;5;124mf\u001b[39m\u001b[38;5;124m'\u001b[39m\u001b[38;5;124mnome do aluno: \u001b[39m\u001b[38;5;132;01m{\u001b[39;00mnome\u001b[38;5;132;01m}\u001b[39;00m\u001b[38;5;124m, idade do aluno: \u001b[39m\u001b[38;5;132;01m{\u001b[39;00midade\u001b[38;5;132;01m}\u001b[39;00m\u001b[38;5;124m, CPF aluno: \u001b[39m\u001b[38;5;132;01m{\u001b[39;00mcpf\u001b[38;5;132;01m}\u001b[39;00m\u001b[38;5;124m'\u001b[39m)\n",
      "\u001b[1;31mTypeError\u001b[0m: '>=' not supported between instances of 'str' and 'int'"
     ]
    }
   ],
   "source": [
    "print(50*\"-\",\"BOLETIM DO ALUNO\",50*\"-\")\n",
    "\n",
    "nome = input(\"Digite seu nome\")\n",
    "nome = str(nome)\n",
    "\n",
    "idade = input(\"Digite sua idade\")\n",
    "idade = str(idade)\n",
    "\n",
    "cpf = input(\"Digite seu CPF\")\n",
    "cpf = str(cpf)\n",
    "print(f'nome: {nome}, idade: {idade}, cpf: {cpf}')\n",
    "\n",
    "\n",
    "Primeiro_Bimestre = input(\"Digite a nota do primeiro bimestre\")\n",
    "Primeiro_Bimestre = float(Primeiro_Bimestre)\n",
    "\n",
    "Segundo_Bimestre = input(\"Digite a nota do segundo bimestre\")\n",
    "Segundo_Bimestre = float(Segundo_Bimestre)\n",
    "\n",
    "Terceiro_Bimestre = input(\"Digite a nota do terceiro bimestre\")\n",
    "Terceiro_Bimestre = float(Terceiro_Bimestre)\n",
    "\n",
    "Quarto_Bimestre = input(\"Digite a nota do quarto bimestre\")\n",
    "Quarto_Bimestre = float(Quarto_Bimestre)\n",
    "\n",
    "media_bimestral = (Primeiro_Bimestre+Segundo_Bimestre+Terceiro_Bimestre+Quarto_Bimestre)/4\n",
    "\n",
    "if idade >= 18:\n",
    "    print(f'o boletim pode ser retirado pelo aluno')\n",
    "\n",
    "    print(f'nome do aluno: {nome}, idade do aluno: {idade}, CPF aluno: {cpf}')\n",
    "\n",
    "    print(f'{Primeiro_Bimestre}, {Segundo_Bimestre}, {Terceiro_Bimestre},{Quarto_Bimestre}')\n",
    "\n",
    "    if nota >= 7:\n",
    "        print(f'{nome}, você esta aprovado')\n",
    "\n",
    "    elif nota >= 5:\n",
    "        print(f'{nome}, você esta recuperação ')\n",
    "\n",
    "    elif nota < 5:\n",
    "        print(f'{nome}, você esta de reprovado')\n",
    "\n",
    "else:\n",
    "    print(f'o boletim so podera ser retirado pelos pais do aluno')\n",
    "\n",
    "\n",
    "\n",
    "\n",
    "\n",
    "\n"
   ]
  }
 ],
 "metadata": {
  "kernelspec": {
   "display_name": "Python 3",
   "language": "python",
   "name": "python3"
  },
  "language_info": {
   "codemirror_mode": {
    "name": "ipython",
    "version": 3
   },
   "file_extension": ".py",
   "mimetype": "text/x-python",
   "name": "python",
   "nbconvert_exporter": "python",
   "pygments_lexer": "ipython3",
   "version": "3.12.4"
  }
 },
 "nbformat": 4,
 "nbformat_minor": 2
}
